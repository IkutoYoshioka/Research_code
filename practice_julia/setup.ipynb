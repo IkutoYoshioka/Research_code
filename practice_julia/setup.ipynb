{
 "cells": [
  {
   "cell_type": "markdown",
   "id": "576dc274",
   "metadata": {},
   "source": [
    "# Juliaの設定"
   ]
  },
  {
   "cell_type": "markdown",
   "id": "e50da893",
   "metadata": {},
   "source": [
    "### 仮想環境の作り方"
   ]
  },
  {
   "cell_type": "markdown",
   "id": "e369fda4",
   "metadata": {},
   "source": [
    "目的や他のパッケージとの相性の問題でフォルダごとに異なる環境を構築したい場合がある。  \n",
    "  \n",
    "・現在のパス  \n",
    "Julia> pwd()  \n",
    "・その環境を作りたいフォルダに移動  \n",
    "Julia> cd(\"パス名\");  \n",
    "・プロジェクト環境を設定  \n",
    "(@v1.--) pkg> activate .  \n",
    "・パッケージを追加  \n",
    "(現在パス名) pkg> add パッケージ名  \n",
    "  \n",
    "インストールされたパッケージ情報は作成されたProject.toml,Manifest.tomlに編集される。"
   ]
  },
  {
   "cell_type": "markdown",
   "id": "cdcb8d36",
   "metadata": {},
   "source": [
    "# Pythonの設定  \n",
    "- pip+venv を使用。"
   ]
  },
  {
   "cell_type": "markdown",
   "id": "28886c73",
   "metadata": {},
   "source": [
    "### 仮想環境"
   ]
  },
  {
   "cell_type": "markdown",
   "id": "8cf0c921",
   "metadata": {},
   "source": [
    "- 仮想環境の作成（作業フォルダ下で）  \n",
    "python -m venv env\n",
    "- 仮想環境を有効化（Windows）  \n",
    ".\\env\\Scripts\\activate"
   ]
  },
  {
   "cell_type": "markdown",
   "id": "7358d8a9",
   "metadata": {},
   "source": [
    "### ライブラリ設定"
   ]
  },
  {
   "cell_type": "markdown",
   "id": "e6ce4d0f",
   "metadata": {},
   "source": [
    "- ライブラリ情報の作成（Project.tomlみたいなやつ）※これもpythonの仮想環境を構築したフォルダ内で  \n",
    "pip freeze > requirements.txt\n"
   ]
  }
 ],
 "metadata": {
  "language_info": {
   "name": "python"
  }
 },
 "nbformat": 4,
 "nbformat_minor": 5
}
